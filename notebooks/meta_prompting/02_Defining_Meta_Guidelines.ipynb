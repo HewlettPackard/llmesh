{
 "cells": [
  {
   "cell_type": "markdown",
   "metadata": {},
   "source": [
    "# Understanding Meta-Guidelines for e-Commerce Customer Service\n",
    "\n",
    "## Overview\n",
    "\n",
    "This notebook focuses on analyzing and utilizing the **E-Commerce Customer Service Policy** as a set of structured meta-guidelines for an AI-powered assistant. These meta-guidelines serve as the foundation for ensuring **policy compliance, structured reasoning, and efficient decision-making** in customer interactions.\n",
    "\n",
    "## Purpose of Meta-Guidelines\n",
    "\n",
    "Meta-guidelines provide a well-defined **operational manual** that dictates how the assistant should process customer service inquiries while maintaining adherence to company policies. By structuring responses based on predefined rules, we ensure that the AI assistant operates within expected service parameters, optimizing response accuracy and compliance.\n",
    "\n",
    "## Key Components of the Meta-Guidelines\n",
    "\n",
    "The **E-Commerce Customer Service Policy** outlines critical service areas that the AI assistant must follow, including:\n",
    "\n",
    "1. **General Customer Service Guidelines** – Standards for monitoring customer satisfaction, handling inquiries, and managing customer accounts.\n",
    "2. **Order Management and Support** – Policies for tracking orders, modifying requests, and processing cancellations.\n",
    "3. **Returns, Refunds, and Dispute Resolution** – Steps for handling returns, checking refund eligibility, and resolving customer complaints.\n",
    "4. **Frequently Asked Questions (FAQs)** – Predefined policy-based responses to common customer service scenarios.\n",
    "\n",
    "## How the Meta-Guidelines Will Be Used\n",
    "\n",
    "By analyzing the **E-Commerce Customer Service Policy**, we will extract key rules and decision-making frameworks that will be embedded into the AI assistant’s **meta-prompt**. The structured prompt will ensure:\n",
    "\n",
    "- **Accurate Interpretation of Customer Requests** – The assistant will determine how to process a query based on predefined service rules.\n",
    "- **Policy Compliance in Decision-Making** – The assistant will only perform actions that align with customer service policies.\n",
    "- **Efficient Query Resolution** – The AI will leverage meta-guidelines to provide direct, accurate, and policy-based responses.\n",
    "- **Seamless Integration with Customer Support Workflows** – Ensuring smooth coordination between the AI assistant and human agents when necessary.\n",
    "\n",
    "<div align=\"center\">\n",
    "  <img src=\"images/guidelines.png\" alt=\"Meta-guidelines\" width=\"800\">\n",
    "</div>"
   ]
  },
  {
   "cell_type": "markdown",
   "metadata": {},
   "source": [
    "## Getting Started\n",
    "\n",
    "Prerequisites:\n",
    "\n",
    "- Python 3.11 or 3.12 installed on your system.\n",
    "- LLM Agentic Tool Mesh library installed. If not, install it using: `pip install 'llmesh[chat, agents]'`\n",
    "- Install kernel for Jupiter notebook `pip install ipykernel`\n",
    "- Create `.env` file inside `notebooks/data` folder with the value of `PYTHONPATH` environment variables"
   ]
  },
  {
   "cell_type": "code",
   "execution_count": 1,
   "metadata": {},
   "outputs": [],
   "source": [
    "from dotenv import load_dotenv\n",
    "import os\n",
    "\n",
    "# Load environment variables from the .env file located in the Data folder\n",
    "dotenv_path = os.path.join('data', '.env')\n",
    "load_dotenv(dotenv_path)\n",
    "\n",
    "# Read environment variables\n",
    "python_path = os.getenv('PYTHONPATH')\n",
    "if not python_path:\n",
    "    raise ValueError(\"Project path is not set.\")\n",
    "\n",
    "# Change working directory\n",
    "os.chdir(python_path)"
   ]
  },
  {
   "cell_type": "code",
   "execution_count": null,
   "metadata": {},
   "outputs": [
    {
     "name": "stderr",
     "output_type": "stream",
     "text": [
      "/Users/antoniofin/Documents/Code/llmesh/.venv/lib/python3.11/site-packages/tqdm/auto.py:21: TqdmWarning: IProgress not found. Please update jupyter and ipywidgets. See https://ipywidgets.readthedocs.io/en/stable/user_install.html\n",
      "  from .autonotebook import tqdm as notebook_tqdm\n"
     ]
    },
    {
     "data": {
      "text/markdown": [
       "# **E-Commerce Customer Service Policy**\n",
       "\n",
       "**Purpose**: This document serves as a detailed guide for customer service representatives and support staff working in e-commerce. It provides structured guidelines for managing customer interactions, ensuring efficient issue resolution, maintaining service quality, optimizing response times, and handling user inquiries effectively.\n",
       "\n",
       "**Note**: Always follow best practices in customer support, compliance, and data security while managing customer interactions.\n",
       "\n",
       "## **Table of Contents**\n",
       "\n",
       "1. General Guidelines for Customer Service\n",
       "2. Order Management and Support\n",
       "3. Returns, Refunds, and Dispute Resolution\n",
       "4. FAQs for Common Scenarios\n",
       "\n",
       "### **1. General Guidelines for Customer Service**\n",
       "\n",
       "* **Monitor Customer Satisfaction**: Track key performance indicators (KPIs) such as response time, resolution rate, and customer feedback scores.\n",
       "* **Handle Inquiries Efficiently**: Provide prompt and accurate responses to customer queries regarding orders, payments, and shipping.\n",
       "* **Retrieve Customer Order History**: Access past order details for a specific customer to assist with inquiries.\n",
       "* **Manage Customer Accounts**: Update account information, reset passwords, and verify user details.\n",
       "\n",
       "### **2. Order Management and Support**\n",
       "\n",
       "#### **2.1 Order Handling**\n",
       "\n",
       "* **Retrieve Order Status**: Obtain the real-time status of an order (e.g., processing, shipped, delivered, canceled).\n",
       "* **Modify an Existing Order**: Adjust order details such as shipping address or item quantity before fulfillment.\n",
       "* **Cancel an Order**: Process customer-initiated order cancellations within the allowed timeframe.\n",
       "* **Track Shipment**: Provide tracking details for an order using the carrier’s API.\n",
       "\n",
       "### **3. Returns, Refunds, and Dispute Resolution**\n",
       "\n",
       "* **Initiate a Return Request**: Process customer requests for returning items based on the return policy.\n",
       "* **Check Refund Eligibility**: Determine if an order qualifies for a refund based on product condition, return timeframe, and payment method.\n",
       "* **Process Refunds**: Issue refunds in compliance with the company’s financial policies.\n",
       "* **Handle Customer Complaints**: Address and resolve disputes related to defective items, incorrect shipments, or billing issues.\n",
       "* **Escalate Issues to a Human Representative**: If an inquiry requires further assistance, escalate it to a human agent.\n",
       "\n",
       "### **4. FAQs for Common Scenarios**\n",
       "\n",
       "**Q1: How do I check the status of an order?**\n",
       "\n",
       "* **Policy**: Submit an order status request to retrieve real-time updates on the customer's purchase.\n",
       "\n",
       "**Q2: How do I modify an order before it ships?**\n",
       "\n",
       "* **Policy**: Submit a modify order request, ensuring the order is still in the processing stage.\n",
       "\n",
       "**Q3: How do I track my shipment?**\n",
       "\n",
       "* **Policy**: Submit a track shipment request to retrieve tracking information from the shipping carrier.\n",
       "\n",
       "**Q4: How do I cancel an order?**\n",
       "\n",
       "* **Policy**: Submit an order cancellation request, ensuring it complies with the cancellation policy.\n",
       "\n",
       "**Q5: How do I initiate a return request?**\n",
       "\n",
       "* **Policy**: Submit a return request, verifying the item’s eligibility based on the return policy.\n",
       "\n",
       "**Q6: How do I check if my order is eligible for a refund?**\n",
       "\n",
       "* **Policy**: Submit a refund eligibility request to confirm if the order meets the refund criteria.\n",
       "\n",
       "**Q7: How do I process a refund?**\n",
       "\n",
       "* **Policy**: Submit a refund request, ensuring the refund amount aligns with the company's policies.\n",
       "\n",
       "**Q8: How do I handle customer complaints about a product?**\n",
       "\n",
       "* **Policy**: Submit a customer complaint resolution request, gathering details about the issue and possible solutions.\n",
       "\n",
       "**Q9: How do I retrieve a customer’s order history?**\n",
       "\n",
       "* **Policy**: Submit an order history request, ensuring the customer account is verified.\n",
       "\n",
       "**Q10: How do I escalate an issue to a human representative?**\n",
       "\n",
       "* **Policy**: Submit an escalation request if an inquiry requires direct human intervention for resolution.\n"
      ],
      "text/plain": [
       "<IPython.core.display.Markdown object>"
      ]
     },
     "metadata": {},
     "output_type": "display_data"
    }
   ],
   "source": [
    "from IPython.display import Markdown\n",
    "from notebooks.meta_prompting.utils import read_policy\n",
    "\n",
    "policy = read_policy()\n",
    "display(Markdown(policy))"
   ]
  },
  {
   "cell_type": "markdown",
   "metadata": {},
   "source": [
    "## Next Steps\n",
    "\n",
    "In the next notebook ([**03: Managing Available Tools**](03_Managing_Available_Tools.ipynb)), we will identify the tools and APIs that the AI assistant can leverage to execute the meta-guideline-driven responses effectively."
   ]
  }
 ],
 "metadata": {
  "kernelspec": {
   "display_name": ".venv",
   "language": "python",
   "name": "python3"
  },
  "language_info": {
   "codemirror_mode": {
    "name": "ipython",
    "version": 3
   },
   "file_extension": ".py",
   "mimetype": "text/x-python",
   "name": "python",
   "nbconvert_exporter": "python",
   "pygments_lexer": "ipython3",
   "version": "3.11.9"
  }
 },
 "nbformat": 4,
 "nbformat_minor": 2
}
