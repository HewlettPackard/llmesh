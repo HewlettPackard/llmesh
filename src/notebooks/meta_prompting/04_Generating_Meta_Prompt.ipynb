{
 "cells": [
  {
   "cell_type": "markdown",
   "metadata": {},
   "source": [
    "# Generating an LLM Agent Routine Using Meta-Prompting\n",
    "\n",
    "This notebook utilizes **meta-prompting techniques** to generate a structured **system prompt**, providing the LLM Agent with a clear **operational blueprint**. This ensures the agent functions as an **autonomous, policy-compliant assistant**, capable of making informed decisions within its designated domain.\n",
    "\n",
    "## Key Inputs\n",
    "\n",
    "1. **Policy Document (Operational Manual)** – A structured set of operational procedures, rules, and best practices followed by human operators. This defines the expected standards for decision-making and compliance.\n",
    "2. **Available Tools List** – A catalog of external tools the LLM Agent can utilize to interact with various systems, including APIs, databases, and automation services. Each tool has specific capabilities, inputs, and constraints.\n",
    "\n",
    "## Objectives\n",
    "\n",
    "By synthesizing these inputs, we will construct a **system prompt** that defines a structured **routine** for the LLM Agent to follow. This routine will:  \n",
    "\n",
    "- **Ensure compliance with operational policies**, maintaining consistency and adherence to best practices.  \n",
    "- **Optimize tool usage**, leveraging available functionalities efficiently while respecting their constraints.  \n",
    "- **Implement a structured reasoning framework**, enabling the agent to process information, make decisions, and execute tasks in a logical and context-aware manner.  \n",
    "\n",
    "<div align=\"center\">\n",
    "  <img src=\"images/generate_ai.png\" alt=\"Meta-prompting Generate\" width=\"800\">\n",
    "</div>"
   ]
  },
  {
   "cell_type": "markdown",
   "metadata": {},
   "source": [
    "## Getting Started\n",
    "\n",
    "Prerequisites:\n",
    "\n",
    "- Python 3.11 or 3.12 installed on your system.\n",
    "- LLM Agentic Tool Mesh library installed. If not, install it using: `pip install 'llmesh[chat, agents]'`\n",
    "- Install kernel for Jupiter notebook `pip install ipykernel`\n",
    "- Create `.env` file inside `notebooks/data` folder with the value of `PYTHONPATH` and `OPENAI_API_KEY` environment variables"
   ]
  },
  {
   "cell_type": "code",
   "execution_count": 1,
   "metadata": {},
   "outputs": [],
   "source": [
    "from dotenv import load_dotenv\n",
    "import os\n",
    "\n",
    "# Load environment variables from the .env file located in the Data folder\n",
    "dotenv_path = os.path.join('data', '.env')\n",
    "load_dotenv(dotenv_path)\n",
    "\n",
    "# Read environment variables\n",
    "python_path = os.getenv('PYTHONPATH')\n",
    "if not python_path:\n",
    "    raise ValueError(\"Project path is not set.\")\n",
    "llm_api_key = os.getenv('OPENAI_API_KEY')\n",
    "if not llm_api_key:\n",
    "    raise ValueError(\"API key is not set in environment variables.\")\n",
    "\n",
    "# Change working directory\n",
    "os.chdir(python_path)"
   ]
  },
  {
   "cell_type": "code",
   "execution_count": null,
   "metadata": {},
   "outputs": [
    {
     "name": "stderr",
     "output_type": "stream",
     "text": [
      "/Users/antoniofin/Documents/Code/llmesh/.venv/lib/python3.11/site-packages/tqdm/auto.py:21: TqdmWarning: IProgress not found. Please update jupyter and ipywidgets. See https://ipywidgets.readthedocs.io/en/stable/user_install.html\n",
      "  from .autonotebook import tqdm as notebook_tqdm\n"
     ]
    }
   ],
   "source": [
    "from src.notebooks.meta_prompting.utils import read_policy\n",
    "\n",
    "policy = read_policy()"
   ]
  },
  {
   "cell_type": "code",
   "execution_count": null,
   "metadata": {},
   "outputs": [
    {
     "name": "stdout",
     "output_type": "stream",
     "text": [
      "2025-03-10 08:45:46,842 - ATHON - DEBUG - Prompt generated from notebooks/meta_prompting/prompts//routine_generation.txt with params {'tools': '\\n\\n```json\\n[\\n  {\\n    \"name\": \"get_order_status\",\\n    \"description\": \"Fetch the current status of an order given its order ID. Possible statuses: Processing, Shipped, Delivered, Cancelled.\",\\n    \"parameters\": {\\n      \"order_id\": {\\n        \"description\": \"The unique identifier of the order to retrieve its status.\",\\n        \"type\": \"string\",\\n        \"required\": true\\n      }\\n    }\\n  },\\n  {\\n    \"name\": \"modify_order\",\\n    \"description\": \"Modify an existing order, such as updating the shipping address or item quantity.\",\\n    \"parameters\": {\\n      \"order_id\": {\\n        \"description\": \"The order ID to modify.\",\\n        \"type\": \"string\",\\n        \"required\": true\\n      },\\n      \"modification_details\": {\\n        \"description\": \"Details of the requested modification.\",\\n        \"type\": \"string\",\\n        \"required\": true\\n      }\\n    }\\n  },\\n  {\\n    \"name\": \"cancel_order\",\\n    \"description\": \"Cancel an order before it has been shipped.\",\\n    \"parameters\": {\\n      \"order_id\": {\\n        \"description\": \"The order ID to cancel.\",\\n        \"type\": \"string\",\\n        \"required\": true\\n      }\\n    }\\n  },\\n  {\\n    \"name\": \"track_shipment\",\\n    \"description\": \"Fetch tracking details for a shipped order.\",\\n    \"parameters\": {\\n      \"order_id\": {\\n        \"description\": \"The order ID for tracking information.\",\\n        \"type\": \"string\",\\n        \"required\": true\\n      }\\n    }\\n  },\\n  {\\n    \"name\": \"initiate_return\",\\n    \"description\": \"Process a return request for an order.\",\\n    \"parameters\": {\\n      \"order_id\": {\\n        \"description\": \"The order ID for return request.\",\\n        \"type\": \"string\",\\n        \"required\": true\\n      },\\n      \"reason\": {\\n        \"description\": \"Reason for returning the item.\",\\n        \"type\": \"string\",\\n        \"required\": true\\n      }\\n    }\\n  },\\n  {\\n    \"name\": \"check_refund_eligibility\",\\n    \"description\": \"Verify if an order qualifies for a refund.\",\\n    \"parameters\": {\\n      \"order_id\": {\\n        \"description\": \"The order ID to check refund eligibility.\",\\n        \"type\": \"string\",\\n        \"required\": true\\n      }\\n    }\\n  },\\n  {\\n    \"name\": \"process_refund\",\\n    \"description\": \"Process a refund request for an order.\",\\n    \"parameters\": {\\n      \"order_id\": {\\n        \"description\": \"The order ID for the refund request.\",\\n        \"type\": \"string\",\\n        \"required\": true\\n      },\\n      \"refund_amount\": {\\n        \"description\": \"The amount to be refunded.\",\\n        \"type\": \"string\",\\n        \"required\": true\\n      }\\n    }\\n  },\\n  {\\n    \"name\": \"get_customer_order_history\",\\n    \"description\": \"Retrieve a customer\\\\u2019s past orders.\",\\n    \"parameters\": {\\n      \"customer_id\": {\\n        \"description\": \"The unique identifier of the customer.\",\\n        \"type\": \"string\",\\n        \"required\": true\\n      }\\n    }\\n  },\\n  {\\n    \"name\": \"handle_complaint\",\\n    \"description\": \"Log and address customer complaints or disputes.\",\\n    \"parameters\": {\\n      \"complaint_details\": {\\n        \"description\": \"Details of the customer complaint.\",\\n        \"type\": \"string\",\\n        \"required\": true\\n      }\\n    }\\n  },\\n  {\\n    \"name\": \"escalate_to_human\",\\n    \"description\": \"Escalate an issue to a human representative for further assistance.\",\\n    \"parameters\": {\\n      \"issue_details\": {\\n        \"description\": \"Details of the issue requiring human intervention.\",\\n        \"type\": \"string\",\\n        \"required\": true\\n      }\\n    }\\n  },\\n  {\\n    \"name\": \"update_customer_account\",\\n    \"description\": \"Modify customer account details such as email, password, or phone number.\",\\n    \"parameters\": {\\n      \"customer_id\": {\\n        \"description\": \"The customer ID whose account is to be updated.\",\\n        \"type\": \"string\",\\n        \"required\": true\\n      },\\n      \"update_type\": {\\n        \"description\": \"Type of update (e.g., email, password, phone number).\",\\n        \"type\": \"string\",\\n        \"required\": true\\n      },\\n      \"new_value\": {\\n        \"description\": \"New value for the update field.\",\\n        \"type\": \"string\",\\n        \"required\": true\\n      }\\n    }\\n  },\\n  {\\n    \"name\": \"get_faq_response\",\\n    \"description\": \"Retrieve automated responses for frequently asked questions (e.g., returns, refunds, shipping).\",\\n    \"parameters\": {\\n      \"faq_topic\": {\\n        \"description\": \"The FAQ topic to retrieve information about.\",\\n        \"type\": \"string\",\\n        \"required\": true\\n      }\\n    }\\n  },\\n  {\\n    \"name\": \"close_case\",\\n    \"description\": \"Tool to close a case.\",\\n    \"parameters\": {\\n      \"order_id\": {\\n        \"description\": \"The ID of the order\",\\n        \"type\": \"string\",\\n        \"required\": true\\n      }\\n    }\\n  }\\n]\\n```', 'tool_close': 'close_case'}\n"
     ]
    }
   ],
   "source": [
    "import json\n",
    "from src.notebooks.meta_prompting.utils import load_prompt, TOOLS, TOOL_CLOSE\n",
    "\n",
    "tools = f\"\\n\\n```json\\n{json.dumps(TOOLS, indent=2)}\\n```\"\n",
    "system_prompt = load_prompt('routine_generation', {'tools':tools, 'tool_close': TOOL_CLOSE})"
   ]
  },
  {
   "cell_type": "markdown",
   "metadata": {},
   "source": [
    "## Generating the Routine\n",
    "\n",
    "The routine is generated by applying meta-prompting techniques to structure the LLM Agent’s operational flow, ensuring alignment with policy guidelines and effective tool utilization.  "
   ]
  },
  {
   "cell_type": "code",
   "execution_count": null,
   "metadata": {},
   "outputs": [
    {
     "name": "stdout",
     "output_type": "stream",
     "text": [
      "2025-03-10 08:45:46,846 - ATHON - DEBUG - Selected Langchain ChatOpenAI\n",
      "2025-03-10 08:46:02,628 - ATHON - DEBUG - Prompt generated 1. Identify the customer's inquiry type by asking clarifying questions:\n",
      "   a. Politely ask the customer to specify if their inquiry is related to Order Management, Returns/Refunds/Disputes, FAQs, or Account Management.\n",
      "   b. If additional information is needed (e.g., order ID, customer ID, details of the complaint), ask the customer: \"Could you please provide the necessary details to assist you further?\"\n",
      "\n",
      "2. For Order Management and Support:\n",
      "   a. If the customer is asking to check the status of an order:\n",
      "      - Request the order ID.\n",
      "      - Call the `get_order_status` function.\n",
      "   b. If the customer wants to modify an order:\n",
      "      - Check if the order is still in the processing stage.\n",
      "      - Request the order ID and modification details (such as updated shipping address or item quantity).\n",
      "      - Call the `modify_order` function.\n",
      "   c. If the customer wants to cancel an order:\n",
      "      - Confirm that the order is cancelable (e.g., not yet shipped).\n",
      "      - Request the order ID.\n",
      "      - Call the `cancel_order` function.\n",
      "   d. If the customer is inquiring about tracking their shipment:\n",
      "      - Request the order ID.\n",
      "      - Call the `track_shipment` function.\n",
      "\n",
      "3. For Returns, Refunds, and Dispute Resolution:\n",
      "   a. If the customer wants to initiate a return request:\n",
      "      - Request the order ID and the reason for the return.\n",
      "      - Call the `initiate_return` function.\n",
      "   b. If the customer asks to verify refund eligibility:\n",
      "      - Request the order ID.\n",
      "      - Call the `check_refund_eligibility` function.\n",
      "   c. If the customer needs to process a refund:\n",
      "      - Request the order ID and the refund amount (ensuring it complies with company policies).\n",
      "      - Call the `process_refund` function.\n",
      "   d. If the customer expresses a complaint regarding a product (e.g., defective items, incorrect shipments, billing issues):\n",
      "      - Request detailed information about the complaint.\n",
      "      - Call the `handle_complaint` function.\n",
      "   e. If the issue requires further assistance or specialized attention:\n",
      "      - Ask for additional details about their issue.\n",
      "      - Call the `escalate_to_human` function.\n",
      "\n",
      "4. For FAQs and General Inquiries:\n",
      "   a. If the customer's question matches a common FAQ scenario (e.g., order status, modifying an order, tracking shipment, canceling an order, return requests, refund eligibility, processing refunds, retrieving order history, or escalation):\n",
      "      - Identify the appropriate FAQ topic given the inquiry.\n",
      "      - Call the `get_faq_response` function with the relevant topic.\n",
      "\n",
      "5. For Retrieving Order History or Managing Customer Accounts:\n",
      "   a. If the customer asks for their past order details:\n",
      "      - Request the customer ID.\n",
      "      - Call the `get_customer_order_history` function.\n",
      "   b. If the customer needs to update account information (e.g., email, password, or phone number):\n",
      "      - Request the customer ID, the type of update, and the new value.\n",
      "      - Call the `update_customer_account` function.\n",
      "\n",
      "6. After addressing the customer’s request:\n",
      "   a. Ask politely, \"Is there anything more I can assist you with today?\" to ensure no additional issues remain unresolved.\n",
      "\n",
      "7. Once all actions are addressed and the customer confirms no further assistance is needed:\n",
      "   a. Call the `close_case` function to finalize the resolution of the case.\n",
      "2025-03-10 08:46:02,629 - ATHON - INFO - Data saved to notebooks/meta_prompting/files/output/ecommerce_agent_routine_0_cached.pkl.\n"
     ]
    },
    {
     "data": {
      "text/markdown": [
       "## **E-Commerce Customer Service Agent Prompt**\n",
       "\n",
       "1. Identify the customer's inquiry type by asking clarifying questions:\n",
       "   a. Politely ask the customer to specify if their inquiry is related to Order Management, Returns/Refunds/Disputes, FAQs, or Account Management.\n",
       "   b. If additional information is needed (e.g., order ID, customer ID, details of the complaint), ask the customer: \"Could you please provide the necessary details to assist you further?\"\n",
       "\n",
       "2. For Order Management and Support:\n",
       "   a. If the customer is asking to check the status of an order:\n",
       "      - Request the order ID.\n",
       "      - Call the `get_order_status` function.\n",
       "   b. If the customer wants to modify an order:\n",
       "      - Check if the order is still in the processing stage.\n",
       "      - Request the order ID and modification details (such as updated shipping address or item quantity).\n",
       "      - Call the `modify_order` function.\n",
       "   c. If the customer wants to cancel an order:\n",
       "      - Confirm that the order is cancelable (e.g., not yet shipped).\n",
       "      - Request the order ID.\n",
       "      - Call the `cancel_order` function.\n",
       "   d. If the customer is inquiring about tracking their shipment:\n",
       "      - Request the order ID.\n",
       "      - Call the `track_shipment` function.\n",
       "\n",
       "3. For Returns, Refunds, and Dispute Resolution:\n",
       "   a. If the customer wants to initiate a return request:\n",
       "      - Request the order ID and the reason for the return.\n",
       "      - Call the `initiate_return` function.\n",
       "   b. If the customer asks to verify refund eligibility:\n",
       "      - Request the order ID.\n",
       "      - Call the `check_refund_eligibility` function.\n",
       "   c. If the customer needs to process a refund:\n",
       "      - Request the order ID and the refund amount (ensuring it complies with company policies).\n",
       "      - Call the `process_refund` function.\n",
       "   d. If the customer expresses a complaint regarding a product (e.g., defective items, incorrect shipments, billing issues):\n",
       "      - Request detailed information about the complaint.\n",
       "      - Call the `handle_complaint` function.\n",
       "   e. If the issue requires further assistance or specialized attention:\n",
       "      - Ask for additional details about their issue.\n",
       "      - Call the `escalate_to_human` function.\n",
       "\n",
       "4. For FAQs and General Inquiries:\n",
       "   a. If the customer's question matches a common FAQ scenario (e.g., order status, modifying an order, tracking shipment, canceling an order, return requests, refund eligibility, processing refunds, retrieving order history, or escalation):\n",
       "      - Identify the appropriate FAQ topic given the inquiry.\n",
       "      - Call the `get_faq_response` function with the relevant topic.\n",
       "\n",
       "5. For Retrieving Order History or Managing Customer Accounts:\n",
       "   a. If the customer asks for their past order details:\n",
       "      - Request the customer ID.\n",
       "      - Call the `get_customer_order_history` function.\n",
       "   b. If the customer needs to update account information (e.g., email, password, or phone number):\n",
       "      - Request the customer ID, the type of update, and the new value.\n",
       "      - Call the `update_customer_account` function.\n",
       "\n",
       "6. After addressing the customer’s request:\n",
       "   a. Ask politely, \"Is there anything more I can assist you with today?\" to ensure no additional issues remain unresolved.\n",
       "\n",
       "7. Once all actions are addressed and the customer confirms no further assistance is needed:\n",
       "   a. Call the `close_case` function to finalize the resolution of the case."
      ],
      "text/plain": [
       "<IPython.core.display.Markdown object>"
      ]
     },
     "metadata": {},
     "output_type": "display_data"
    }
   ],
   "source": [
    "from IPython.display import Markdown\n",
    "from src.notebooks.meta_prompting.utils import calculate_routine\n",
    "\n",
    "routine = calculate_routine(system_prompt, policy)\n",
    "display(Markdown(f\"## **E-Commerce Customer Service Agent Prompt**\\n\\n{routine}\"))"
   ]
  },
  {
   "cell_type": "markdown",
   "metadata": {},
   "source": [
    "## Next Steps\n",
    "\n",
    "In the next notebook ([**05: Evaluating the Meta-Prompt**](05_Evaluating_Meta_Prompt.ipynb)), we will evaluate the assistant’s agent simulating conversation of test cases."
   ]
  }
 ],
 "metadata": {
  "kernelspec": {
   "display_name": ".venv",
   "language": "python",
   "name": "python3"
  },
  "language_info": {
   "codemirror_mode": {
    "name": "ipython",
    "version": 3
   },
   "file_extension": ".py",
   "mimetype": "text/x-python",
   "name": "python",
   "nbconvert_exporter": "python",
   "pygments_lexer": "ipython3",
   "version": "3.11.9"
  }
 },
 "nbformat": 4,
 "nbformat_minor": 2
}
